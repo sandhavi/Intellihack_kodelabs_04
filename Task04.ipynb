{
 "cells": [
  {
   "cell_type": "code",
   "execution_count": 151,
   "id": "78709389",
   "metadata": {},
   "outputs": [],
   "source": [
    "import pandas as pd\n",
    "import numpy as np\n",
    "import seaborn as sns\n",
    "import matplotlib.pyplot as plt\n",
    "from sklearn.model_selection import train_test_split\n",
    "from sklearn.linear_model import LinearRegression\n",
    "from sklearn.ensemble import RandomForestRegressor\n",
    "from sklearn.preprocessing import OneHotEncoder, StandardScaler, LabelEncoder\n",
    "from sklearn.compose import ColumnTransformer\n",
    "from sklearn.metrics import mean_absolute_error, mean_squared_error, r2_score\n",
    "import warnings\n",
    "warnings.filterwarnings('ignore')"
   ]
  },
  {
   "cell_type": "code",
   "execution_count": 153,
   "id": "854a896e",
   "metadata": {},
   "outputs": [
    {
     "name": "stdout",
     "output_type": "stream",
     "text": [
      "                                               Title Rating in Stars  \\\n",
      "0  Yfashion Cartoon  Electronic  Watch Life Water...           4.6/5   \n",
      "1  100% Imported LED watch for men , boys and Kid...           4.3/5   \n",
      "2  1 Cartoon Characters Analog Wrist Watch For Ki...           4.5/5   \n",
      "3  M3 Touch LED Bracelet Digital Watch Band Good ...           4.6/5   \n",
      "4            led Watches For Boys and Girls and kids           4.4/5   \n",
      "\n",
      "   Rating Count Sold Count Voucher       Delivery Currency Current Price  \\\n",
      "0           707    6K Sold       0  Free Delivery      Rs.           287   \n",
      "1           293    1K Sold       0              0      Rs.           270   \n",
      "2            57   452 Sold       0  Free Delivery      Rs.           225   \n",
      "3            51   332 Sold       0  Free Delivery      Rs.           160   \n",
      "4            54   476 Sold       0  Free Delivery      Rs.           198   \n",
      "\n",
      "  Original Price                                               Link  \\\n",
      "0        Rs. 520  //www.daraz.pk/products/y-led-3-i258744118-s14...   \n",
      "1        Rs. 999  //www.daraz.pk/products/100-led-2023-i40167553...   \n",
      "2        Rs. 750  //www.daraz.pk/products/1-i423737473-s20070599...   \n",
      "3        Rs. 299  //www.daraz.pk/products/m3-led-led-i432456407-...   \n",
      "4        Rs. 300  //www.daraz.pk/products/led-i398157365-s192654...   \n",
      "\n",
      "       Category  \n",
      "0  Kids Watches  \n",
      "1  Kids Watches  \n",
      "2  Kids Watches  \n",
      "3  Kids Watches  \n",
      "4  Kids Watches  \n"
     ]
    }
   ],
   "source": [
    "data = pd.read_csv('Watches Bags Accessories.csv', encoding='ISO-8859-1')\n",
    "\n",
    "print(data.head())"
   ]
  },
  {
   "cell_type": "code",
   "execution_count": 154,
   "id": "da49d758",
   "metadata": {},
   "outputs": [
    {
     "name": "stdout",
     "output_type": "stream",
     "text": [
      "<class 'pandas.core.frame.DataFrame'>\n",
      "RangeIndex: 1078 entries, 0 to 1077\n",
      "Data columns (total 11 columns):\n",
      " #   Column           Non-Null Count  Dtype \n",
      "---  ------           --------------  ----- \n",
      " 0   Title            1078 non-null   object\n",
      " 1   Rating in Stars  1078 non-null   object\n",
      " 2   Rating Count     1078 non-null   int64 \n",
      " 3   Sold Count       1044 non-null   object\n",
      " 4   Voucher          1078 non-null   object\n",
      " 5   Delivery         1078 non-null   object\n",
      " 6   Currency         1078 non-null   object\n",
      " 7   Current Price    1078 non-null   object\n",
      " 8   Original Price   1010 non-null   object\n",
      " 9   Link             1078 non-null   object\n",
      " 10  Category         1078 non-null   object\n",
      "dtypes: int64(1), object(10)\n",
      "memory usage: 92.8+ KB\n",
      "None\n"
     ]
    }
   ],
   "source": [
    "print(data.info())"
   ]
  },
  {
   "cell_type": "code",
   "execution_count": 155,
   "id": "7a241fcc",
   "metadata": {},
   "outputs": [
    {
     "name": "stdout",
     "output_type": "stream",
     "text": [
      "Title               0\n",
      "Rating in Stars     0\n",
      "Rating Count        0\n",
      "Sold Count         34\n",
      "Voucher             0\n",
      "Delivery            0\n",
      "Currency            0\n",
      "Current Price       0\n",
      "Original Price     68\n",
      "Link                0\n",
      "Category            0\n",
      "dtype: int64\n"
     ]
    }
   ],
   "source": [
    "print(data.isnull().sum())"
   ]
  },
  {
   "cell_type": "code",
   "execution_count": 156,
   "id": "fcc112e2",
   "metadata": {},
   "outputs": [],
   "source": [
    "data['Sold Count'] = data['Sold Count'].str.replace('K Sold', '000').str.replace(' Sold', '')\n",
    "data['Sold Count'] = data['Sold Count'].astype(float)"
   ]
  },
  {
   "cell_type": "code",
   "execution_count": 158,
   "id": "e14390ae",
   "metadata": {},
   "outputs": [],
   "source": [
    "data['Current Price'] = data['Current Price'].str.replace('Rs.', '').str.replace(',', '').astype(float)\n",
    "data['Original Price'] = data['Original Price'].str.replace('Rs.', '').str.replace(',', '').astype(float)"
   ]
  },
  {
   "cell_type": "code",
   "execution_count": 159,
   "id": "43ba8832",
   "metadata": {},
   "outputs": [
    {
     "name": "stdout",
     "output_type": "stream",
     "text": [
      "   Current Price  Original Price\n",
      "0          287.0           520.0\n",
      "1          270.0           999.0\n",
      "2          225.0           750.0\n",
      "3          160.0           299.0\n",
      "4          198.0           300.0\n"
     ]
    }
   ],
   "source": [
    "print(data[['Current Price', 'Original Price']].head())"
   ]
  },
  {
   "cell_type": "code",
   "execution_count": 160,
   "id": "c56b82f1",
   "metadata": {},
   "outputs": [],
   "source": [
    "data['Original Price'] = data['Original Price'].fillna(data['Original Price'].mean())\n",
    "data['Sold Count'] = data['Sold Count'].fillna(data['Sold Count'].mean())"
   ]
  },
  {
   "cell_type": "code",
   "execution_count": 162,
   "id": "31b73a51",
   "metadata": {},
   "outputs": [
    {
     "name": "stdout",
     "output_type": "stream",
     "text": [
      "['4.6/5' '4.3/5' '4.5/5' '4.4/5' '3.8/5' '5-Apr' '3.6/5' '3.9/5' '4.8/5'\n",
      " '4.2/5' '5-May' '4.7/5' '3.4/5' '3.3/5' '3.5/5' '2.8/5' '5-Mar' '4.1/5'\n",
      " '3.7/5' '4.9/5' '0' '3.2/5' '5-Jan' '2.3/5' '3.1/5']\n"
     ]
    }
   ],
   "source": [
    "print(data['Rating in Stars'].unique())"
   ]
  },
  {
   "cell_type": "code",
   "execution_count": 172,
   "id": "5ffe4ee5",
   "metadata": {},
   "outputs": [
    {
     "name": "stdout",
     "output_type": "stream",
     "text": [
      "1078\n"
     ]
    }
   ],
   "source": [
    "def clean_rating_stars(value):\n",
    "    try:\n",
    "        cleaned_value = value.replace('/5', '')\n",
    "        return float(cleaned_value)\n",
    "    except (ValueError, AttributeError):\n",
    "        return np.nan\n",
    "\n",
    "data['Rating in Stars'] = data['Rating in Stars'].apply(clean_rating_stars)\n",
    "\n",
    "print(data['Rating in Stars'].isna().sum())\n",
    "\n",
    "data['Rating in Stars'].fillna(data['Rating in Stars'].mean(), inplace=True)"
   ]
  },
  {
   "cell_type": "code",
   "execution_count": 176,
   "id": "b0d47dca",
   "metadata": {},
   "outputs": [
    {
     "data": {
      "text/html": [
       "<div>\n",
       "<style scoped>\n",
       "    .dataframe tbody tr th:only-of-type {\n",
       "        vertical-align: middle;\n",
       "    }\n",
       "\n",
       "    .dataframe tbody tr th {\n",
       "        vertical-align: top;\n",
       "    }\n",
       "\n",
       "    .dataframe thead th {\n",
       "        text-align: right;\n",
       "    }\n",
       "</style>\n",
       "<table border=\"1\" class=\"dataframe\">\n",
       "  <thead>\n",
       "    <tr style=\"text-align: right;\">\n",
       "      <th></th>\n",
       "      <th>Title</th>\n",
       "      <th>Rating in Stars</th>\n",
       "      <th>Rating Count</th>\n",
       "      <th>Sold Count</th>\n",
       "      <th>Voucher</th>\n",
       "      <th>Delivery</th>\n",
       "      <th>Currency</th>\n",
       "      <th>Current Price</th>\n",
       "      <th>Original Price</th>\n",
       "      <th>Link</th>\n",
       "      <th>Category</th>\n",
       "      <th>Discount Amount</th>\n",
       "      <th>Discount Percentage</th>\n",
       "      <th>Price to Sold Ratio</th>\n",
       "      <th>Rating Effectiveness</th>\n",
       "    </tr>\n",
       "  </thead>\n",
       "  <tbody>\n",
       "    <tr>\n",
       "      <th>0</th>\n",
       "      <td>Yfashion Cartoon  Electronic  Watch Life Water...</td>\n",
       "      <td>NaN</td>\n",
       "      <td>707</td>\n",
       "      <td>6000.0</td>\n",
       "      <td>0</td>\n",
       "      <td>Free Delivery</td>\n",
       "      <td>Rs.</td>\n",
       "      <td>287.0</td>\n",
       "      <td>520.0</td>\n",
       "      <td>//www.daraz.pk/products/y-led-3-i258744118-s14...</td>\n",
       "      <td>Kids Watches</td>\n",
       "      <td>233.0</td>\n",
       "      <td>44.807692</td>\n",
       "      <td>0.047833</td>\n",
       "      <td>NaN</td>\n",
       "    </tr>\n",
       "    <tr>\n",
       "      <th>1</th>\n",
       "      <td>100% Imported LED watch for men , boys and Kid...</td>\n",
       "      <td>NaN</td>\n",
       "      <td>293</td>\n",
       "      <td>1000.0</td>\n",
       "      <td>0</td>\n",
       "      <td>0</td>\n",
       "      <td>Rs.</td>\n",
       "      <td>270.0</td>\n",
       "      <td>999.0</td>\n",
       "      <td>//www.daraz.pk/products/100-led-2023-i40167553...</td>\n",
       "      <td>Kids Watches</td>\n",
       "      <td>729.0</td>\n",
       "      <td>72.972973</td>\n",
       "      <td>0.270000</td>\n",
       "      <td>NaN</td>\n",
       "    </tr>\n",
       "    <tr>\n",
       "      <th>2</th>\n",
       "      <td>1 Cartoon Characters Analog Wrist Watch For Ki...</td>\n",
       "      <td>NaN</td>\n",
       "      <td>57</td>\n",
       "      <td>452.0</td>\n",
       "      <td>0</td>\n",
       "      <td>Free Delivery</td>\n",
       "      <td>Rs.</td>\n",
       "      <td>225.0</td>\n",
       "      <td>750.0</td>\n",
       "      <td>//www.daraz.pk/products/1-i423737473-s20070599...</td>\n",
       "      <td>Kids Watches</td>\n",
       "      <td>525.0</td>\n",
       "      <td>70.000000</td>\n",
       "      <td>0.497788</td>\n",
       "      <td>NaN</td>\n",
       "    </tr>\n",
       "    <tr>\n",
       "      <th>3</th>\n",
       "      <td>M3 Touch LED Bracelet Digital Watch Band Good ...</td>\n",
       "      <td>NaN</td>\n",
       "      <td>51</td>\n",
       "      <td>332.0</td>\n",
       "      <td>0</td>\n",
       "      <td>Free Delivery</td>\n",
       "      <td>Rs.</td>\n",
       "      <td>160.0</td>\n",
       "      <td>299.0</td>\n",
       "      <td>//www.daraz.pk/products/m3-led-led-i432456407-...</td>\n",
       "      <td>Kids Watches</td>\n",
       "      <td>139.0</td>\n",
       "      <td>46.488294</td>\n",
       "      <td>0.481928</td>\n",
       "      <td>NaN</td>\n",
       "    </tr>\n",
       "    <tr>\n",
       "      <th>4</th>\n",
       "      <td>led Watches For Boys and Girls and kids</td>\n",
       "      <td>NaN</td>\n",
       "      <td>54</td>\n",
       "      <td>476.0</td>\n",
       "      <td>0</td>\n",
       "      <td>Free Delivery</td>\n",
       "      <td>Rs.</td>\n",
       "      <td>198.0</td>\n",
       "      <td>300.0</td>\n",
       "      <td>//www.daraz.pk/products/led-i398157365-s192654...</td>\n",
       "      <td>Kids Watches</td>\n",
       "      <td>102.0</td>\n",
       "      <td>34.000000</td>\n",
       "      <td>0.415966</td>\n",
       "      <td>NaN</td>\n",
       "    </tr>\n",
       "  </tbody>\n",
       "</table>\n",
       "</div>"
      ],
      "text/plain": [
       "                                               Title  Rating in Stars  \\\n",
       "0  Yfashion Cartoon  Electronic  Watch Life Water...              NaN   \n",
       "1  100% Imported LED watch for men , boys and Kid...              NaN   \n",
       "2  1 Cartoon Characters Analog Wrist Watch For Ki...              NaN   \n",
       "3  M3 Touch LED Bracelet Digital Watch Band Good ...              NaN   \n",
       "4            led Watches For Boys and Girls and kids              NaN   \n",
       "\n",
       "   Rating Count  Sold Count Voucher       Delivery Currency  Current Price  \\\n",
       "0           707      6000.0       0  Free Delivery      Rs.          287.0   \n",
       "1           293      1000.0       0              0      Rs.          270.0   \n",
       "2            57       452.0       0  Free Delivery      Rs.          225.0   \n",
       "3            51       332.0       0  Free Delivery      Rs.          160.0   \n",
       "4            54       476.0       0  Free Delivery      Rs.          198.0   \n",
       "\n",
       "   Original Price                                               Link  \\\n",
       "0           520.0  //www.daraz.pk/products/y-led-3-i258744118-s14...   \n",
       "1           999.0  //www.daraz.pk/products/100-led-2023-i40167553...   \n",
       "2           750.0  //www.daraz.pk/products/1-i423737473-s20070599...   \n",
       "3           299.0  //www.daraz.pk/products/m3-led-led-i432456407-...   \n",
       "4           300.0  //www.daraz.pk/products/led-i398157365-s192654...   \n",
       "\n",
       "       Category  Discount Amount  Discount Percentage  Price to Sold Ratio  \\\n",
       "0  Kids Watches            233.0            44.807692             0.047833   \n",
       "1  Kids Watches            729.0            72.972973             0.270000   \n",
       "2  Kids Watches            525.0            70.000000             0.497788   \n",
       "3  Kids Watches            139.0            46.488294             0.481928   \n",
       "4  Kids Watches            102.0            34.000000             0.415966   \n",
       "\n",
       "   Rating Effectiveness  \n",
       "0                   NaN  \n",
       "1                   NaN  \n",
       "2                   NaN  \n",
       "3                   NaN  \n",
       "4                   NaN  "
      ]
     },
     "execution_count": 176,
     "metadata": {},
     "output_type": "execute_result"
    }
   ],
   "source": [
    "# Feature Engineering: Create new features\n",
    "\n",
    "# 1. Discount Amount\n",
    "data['Discount Amount'] = data['Original Price'] - data['Current Price']\n",
    "\n",
    "# 2. Discount Percentage\n",
    "data['Discount Percentage'] = (data['Discount Amount'] / data['Original Price']) * 100\n",
    "\n",
    "# 3. Price to Sold Ratio\n",
    "data['Price to Sold Ratio'] = data['Current Price'] / data['Sold Count']\n",
    "\n",
    "# 4. Rating Effectiveness\n",
    "data['Rating Effectiveness'] = data['Rating in Stars'] * data['Rating Count']\n",
    "\n",
    "# Display the dataset with new features\n",
    "data.head()"
   ]
  },
  {
   "cell_type": "code",
   "execution_count": null,
   "id": "7a0bdd01",
   "metadata": {},
   "outputs": [],
   "source": []
  }
 ],
 "metadata": {
  "kernelspec": {
   "display_name": "Python 3 (ipykernel)",
   "language": "python",
   "name": "python3"
  },
  "language_info": {
   "codemirror_mode": {
    "name": "ipython",
    "version": 3
   },
   "file_extension": ".py",
   "mimetype": "text/x-python",
   "name": "python",
   "nbconvert_exporter": "python",
   "pygments_lexer": "ipython3",
   "version": "3.11.7"
  }
 },
 "nbformat": 4,
 "nbformat_minor": 5
}
